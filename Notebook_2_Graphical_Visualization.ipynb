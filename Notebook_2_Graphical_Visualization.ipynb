{
 "cells": [
  {
   "cell_type": "markdown",
   "id": "a2fb77e1-cead-4f1f-8c45-066c4b745dda",
   "metadata": {},
   "source": [
    "# Graphical Visualization on Processed Data"
   ]
  },
  {
   "cell_type": "markdown",
   "id": "c3762472-6c66-40bf-a92c-58b389005473",
   "metadata": {},
   "source": [
    "### Import Libraries"
   ]
  },
  {
   "cell_type": "code",
   "execution_count": 1,
   "id": "f42476e5-6c03-41cd-b651-e1c26f9c3c19",
   "metadata": {},
   "outputs": [],
   "source": [
    "import pandas as pd\n",
    "import numpy as np\n",
    "import matplotlib.pyplot as plt\n",
    "import seaborn as sns\n",
    "import warnings\n",
    "warnings.filterwarnings(\"ignore\")"
   ]
  },
  {
   "cell_type": "markdown",
   "id": "1b2328eb-194a-4d53-a489-4cf881a75b89",
   "metadata": {},
   "source": [
    "### Load the Processed Dataset"
   ]
  },
  {
   "cell_type": "code",
   "execution_count": null,
   "id": "ec6fbce0-fd0e-45c7-b904-72b60385a07d",
   "metadata": {},
   "outputs": [],
   "source": [
    "df = pd."
   ]
  },
  {
   "cell_type": "markdown",
   "id": "561bd006-c6e5-4bd7-8a6d-5e212245fdd7",
   "metadata": {},
   "source": [
    "11.1 thought about cybersecurity in space-based networking systems (col G)\n",
    "Just find the ratio with graphical visualisation based on Gender, Age,   Profession &  Country ( Any algo but mention it )."
   ]
  },
  {
   "cell_type": "code",
   "execution_count": null,
   "id": "80abede0-1f2d-47b6-9dcf-1853ddeb3254",
   "metadata": {},
   "outputs": [],
   "source": []
  },
  {
   "cell_type": "code",
   "execution_count": null,
   "id": "4ef53d9b-b620-4dcb-9312-e10836af0fc2",
   "metadata": {},
   "outputs": [],
   "source": []
  },
  {
   "cell_type": "markdown",
   "id": "01167c03-b5c2-4f4c-af98-4c3aa958f14f",
   "metadata": {},
   "source": [
    "11.2 discussed among society of a secure networking system (col H)\n",
    "Just find the ratio with graphical visualisation based on Gender, Age,   Profession &  Country. ( Any algo but mention it )."
   ]
  },
  {
   "cell_type": "markdown",
   "id": "e24030ad-09db-45dc-b95d-e0daffa61372",
   "metadata": {},
   "source": [
    "11.3 .concerned about the dangerous impact of online secure data for the next generation (col I)\n",
    "Just find the ratio with graphical visualisation based on Gender, Age,   Profession &  Country. ( Any algo but mention it )."
   ]
  },
  {
   "cell_type": "markdown",
   "id": "f7113d57-eb50-4ead-8bcb-50eef04b80e0",
   "metadata": {},
   "source": [
    "11.4 .Thought about the global plan to adapt to grab a secured space-based networking system by 2035? (Col L)\n",
    "Just find the ratio with graphical visualisation based on Gender, Age,   Profession &  Country.\n",
    "* a) Extremely happy, it's a necessary step for a sustainable future.\n",
    "* b) Somewhat happy, but concerned about the practicality and affordability.\n",
    "* c) Neutral, I haven't given it much thought.\n",
    "\n",
    "Apply confusion Matrix here and show the box diagram (True/False) Positive/ Negative"
   ]
  },
  {
   "cell_type": "markdown",
   "id": "380fc709-63bd-4de4-989b-b82ee6a19325",
   "metadata": {},
   "source": [
    "11.5. believe of people on Industries (globally) that are adequately prepared for the widespread adoption of secured space based networking systems by 2035\n",
    "Just find the ratio and show graphical visualisation based on Gender, Age,   Profession &  Country. (Col M) ( Any algo but mention it )."
   ]
  },
  {
   "cell_type": "markdown",
   "id": "96c78535-3574-463e-b9a2-c1bec8aea31b",
   "metadata": {},
   "source": [
    "11.6. About the government's efforts in promoting Secured space-based networking system adoption? (Col N)\n",
    "Just find the ratio with graphical visualisation based on Gender, Age,   Profession &  Country.( Any algo but mention it )."
   ]
  },
  {
   "cell_type": "markdown",
   "id": "6923ab31-266a-4e0b-868f-673aa49f5d7c",
   "metadata": {},
   "source": [
    "11.7. How do you think the transition to having a secured 5g network will  impact your daily life? (Col O)\n",
    "Just find the ratio of percentage with graphical visualisation based on Gender, Age, Profession &  Country.( Any algo but mention it )."
   ]
  },
  {
   "cell_type": "markdown",
   "id": "92ecb4c3-4534-4b62-ba28-4869cfb3bf5f",
   "metadata": {},
   "source": [
    "11.8. preference to use a secured 5g sim, if its data transmission rate is better than now?   (Col P)\n",
    "Just find the ratio with graphical visualisation based on Gender, Age, Profession &  Country.( Any algo but mention it )."
   ]
  },
  {
   "cell_type": "code",
   "execution_count": null,
   "id": "c23066cf-6118-4b7a-9ece-8007e780a40b",
   "metadata": {},
   "outputs": [],
   "source": []
  }
 ],
 "metadata": {
  "kernelspec": {
   "display_name": "Python 3 (ipykernel)",
   "language": "python",
   "name": "python3"
  },
  "language_info": {
   "codemirror_mode": {
    "name": "ipython",
    "version": 3
   },
   "file_extension": ".py",
   "mimetype": "text/x-python",
   "name": "python",
   "nbconvert_exporter": "python",
   "pygments_lexer": "ipython3",
   "version": "3.11.7"
  }
 },
 "nbformat": 4,
 "nbformat_minor": 5
}
