{
 "cells": [
  {
   "cell_type": "markdown",
   "id": "a2fb77e1-cead-4f1f-8c45-066c4b745dda",
   "metadata": {},
   "source": [
    "# Graphical Visualization on Processed Data"
   ]
  },
  {
   "cell_type": "markdown",
   "id": "c3762472-6c66-40bf-a92c-58b389005473",
   "metadata": {},
   "source": [
    "### Import Libraries"
   ]
  },
  {
   "cell_type": "code",
   "execution_count": 1,
   "id": "f42476e5-6c03-41cd-b651-e1c26f9c3c19",
   "metadata": {},
   "outputs": [],
   "source": [
    "import pandas as pd\n",
    "import numpy as np\n",
    "import matplotlib.pyplot as plt\n",
    "import seaborn as sns\n",
    "import warnings\n",
    "warnings.filterwarnings(\"ignore\")"
   ]
  },
  {
   "cell_type": "markdown",
   "id": "1b2328eb-194a-4d53-a489-4cf881a75b89",
   "metadata": {},
   "source": [
    "### Load the Processed Dataset"
   ]
  },
  {
   "cell_type": "code",
   "execution_count": 2,
   "id": "ec6fbce0-fd0e-45c7-b904-72b60385a07d",
   "metadata": {},
   "outputs": [
    {
     "name": "stdout",
     "output_type": "stream",
     "text": [
      "<class 'pandas.core.frame.DataFrame'>\n",
      "RangeIndex: 5000 entries, 0 to 4999\n",
      "Data columns (total 15 columns):\n",
      " #   Column                                                     Non-Null Count  Dtype\n",
      "---  ------                                                     --------------  -----\n",
      " 0   gender                                                     5000 non-null   int64\n",
      " 1   country                                                    5000 non-null   int64\n",
      " 2   profession                                                 5000 non-null   int64\n",
      " 3   age                                                        5000 non-null   int64\n",
      " 4   ever_think_about_cybsec_space-based_netw_sys               5000 non-null   int64\n",
      " 5   ever_discussed_about_netw_sys                              5000 non-null   int64\n",
      " 6   concerned_about_dangerous_impact_secure_data               5000 non-null   int64\n",
      " 7   willing_to_switch_to_secured_netw_2035                     5000 non-null   int64\n",
      " 8   main_concern_regarding_transition_to_5G_2035               5000 non-null   int64\n",
      " 9   feel_about_the_global_plan_to_adapt_secured_netw_sys_2035  5000 non-null   int64\n",
      " 10  blv_industries_are_prepared_secured_netw_sys_2035          5000 non-null   int64\n",
      " 11  perceive_govt_efforts_in_secured_netw_sys                  5000 non-null   int64\n",
      " 12  transition_to_having_5g_network_will_impact_dailylife      5000 non-null   int64\n",
      " 13  prefer_to_use_secured_5g                                   5000 non-null   int64\n",
      " 14  happy_to_provide_emails                                    5000 non-null   int64\n",
      "dtypes: int64(15)\n",
      "memory usage: 586.1 KB\n"
     ]
    }
   ],
   "source": [
    "df = pd.read_excel('Synthetic_data_encoded_5K.xlsx')\n",
    "df.info()"
   ]
  },
  {
   "cell_type": "markdown",
   "id": "561bd006-c6e5-4bd7-8a6d-5e212245fdd7",
   "metadata": {},
   "source": [
    "### 11.1 thought about cybersecurity in space-based networking systems (col G)\n",
    "\n",
    "Just find the ratio with graphical visualisation based on Gender, Age,   Profession &  Country (Any algo but mention it)."
   ]
  },
  {
   "cell_type": "markdown",
   "id": "f61128a3-8a18-4a00-ac0d-077510959759",
   "metadata": {},
   "source": [
    "**Have you ever think about cybersecurity in space-based networking systems?**\n",
    "\n",
    "`Labels:  ['Maybe' 'No' 'Yes']`\n",
    "\n",
    "`Encodings: [0 1 2]`"
   ]
  },
  {
   "cell_type": "code",
   "execution_count": 3,
   "id": "80abede0-1f2d-47b6-9dcf-1853ddeb3254",
   "metadata": {},
   "outputs": [
    {
     "data": {
      "text/plain": [
       "ever_think_about_cybsec_space-based_netw_sys\n",
       "1    2170\n",
       "2    2024\n",
       "0     806\n",
       "Name: count, dtype: int64"
      ]
     },
     "execution_count": 3,
     "metadata": {},
     "output_type": "execute_result"
    }
   ],
   "source": [
    "# see value counts per class\n",
    "df['ever_think_about_cybsec_space-based_netw_sys'].value_counts()"
   ]
  },
  {
   "cell_type": "markdown",
   "id": "07fb1dbf-aab8-47b6-8ddf-276429039e9f",
   "metadata": {},
   "source": [
    "**Gender**\n",
    "\n",
    "`Labels:  ['Female' 'I prefer not to say.' 'Male']`\n",
    "\n",
    "`Encodings: [0 1 2]`"
   ]
  },
  {
   "cell_type": "code",
   "execution_count": 4,
   "id": "d061037d-7ab7-4f70-91e1-09c9ffb47280",
   "metadata": {},
   "outputs": [
    {
     "data": {
      "text/plain": [
       "gender\n",
       "2    2930\n",
       "0    1580\n",
       "1     490\n",
       "Name: count, dtype: int64"
      ]
     },
     "execution_count": 4,
     "metadata": {},
     "output_type": "execute_result"
    }
   ],
   "source": [
    "df['gender'].value_counts()"
   ]
  },
  {
   "cell_type": "code",
   "execution_count": null,
   "id": "f6d3055c-729b-498d-a76d-dfd6d4d6ac89",
   "metadata": {},
   "outputs": [],
   "source": []
  },
  {
   "cell_type": "code",
   "execution_count": null,
   "id": "fa942e8c-918a-4b70-ab64-3463c1a767f7",
   "metadata": {},
   "outputs": [],
   "source": []
  },
  {
   "cell_type": "code",
   "execution_count": null,
   "id": "15a4c082-80db-4288-a9db-10762c63614b",
   "metadata": {},
   "outputs": [],
   "source": []
  },
  {
   "cell_type": "code",
   "execution_count": null,
   "id": "2a260863-62e9-4f36-8008-e7bdf978ef94",
   "metadata": {},
   "outputs": [],
   "source": []
  },
  {
   "cell_type": "code",
   "execution_count": null,
   "id": "91b654da-3f96-4725-86b2-49df4f29a27d",
   "metadata": {},
   "outputs": [],
   "source": []
  },
  {
   "cell_type": "markdown",
   "id": "01167c03-b5c2-4f4c-af98-4c3aa958f14f",
   "metadata": {},
   "source": [
    "11.2 discussed among society of a secure networking system (col H)\n",
    "Just find the ratio with graphical visualisation based on Gender, Age,   Profession &  Country. ( Any algo but mention it )."
   ]
  },
  {
   "cell_type": "markdown",
   "id": "e24030ad-09db-45dc-b95d-e0daffa61372",
   "metadata": {},
   "source": [
    "11.3 .concerned about the dangerous impact of online secure data for the next generation (col I)\n",
    "Just find the ratio with graphical visualisation based on Gender, Age,   Profession &  Country. ( Any algo but mention it )."
   ]
  },
  {
   "cell_type": "markdown",
   "id": "f7113d57-eb50-4ead-8bcb-50eef04b80e0",
   "metadata": {},
   "source": [
    "11.4 .Thought about the global plan to adapt to grab a secured space-based networking system by 2035? (Col L)\n",
    "Just find the ratio with graphical visualisation based on Gender, Age,   Profession &  Country.\n",
    "* a) Extremely happy, it's a necessary step for a sustainable future.\n",
    "* b) Somewhat happy, but concerned about the practicality and affordability.\n",
    "* c) Neutral, I haven't given it much thought.\n",
    "\n",
    "Apply confusion Matrix here and show the box diagram (True/False) Positive/ Negative"
   ]
  },
  {
   "cell_type": "markdown",
   "id": "380fc709-63bd-4de4-989b-b82ee6a19325",
   "metadata": {},
   "source": [
    "11.5. believe of people on Industries (globally) that are adequately prepared for the widespread adoption of secured space based networking systems by 2035\n",
    "Just find the ratio and show graphical visualisation based on Gender, Age,   Profession &  Country. (Col M) ( Any algo but mention it )."
   ]
  },
  {
   "cell_type": "markdown",
   "id": "96c78535-3574-463e-b9a2-c1bec8aea31b",
   "metadata": {},
   "source": [
    "11.6. About the government's efforts in promoting Secured space-based networking system adoption? (Col N)\n",
    "Just find the ratio with graphical visualisation based on Gender, Age,   Profession &  Country.( Any algo but mention it )."
   ]
  },
  {
   "cell_type": "markdown",
   "id": "6923ab31-266a-4e0b-868f-673aa49f5d7c",
   "metadata": {},
   "source": [
    "11.7. How do you think the transition to having a secured 5g network will  impact your daily life? (Col O)\n",
    "Just find the ratio of percentage with graphical visualisation based on Gender, Age, Profession &  Country.( Any algo but mention it )."
   ]
  },
  {
   "cell_type": "markdown",
   "id": "92ecb4c3-4534-4b62-ba28-4869cfb3bf5f",
   "metadata": {},
   "source": [
    "11.8. preference to use a secured 5g sim, if its data transmission rate is better than now?   (Col P)\n",
    "Just find the ratio with graphical visualisation based on Gender, Age, Profession &  Country.( Any algo but mention it )."
   ]
  },
  {
   "cell_type": "code",
   "execution_count": null,
   "id": "c23066cf-6118-4b7a-9ece-8007e780a40b",
   "metadata": {},
   "outputs": [],
   "source": []
  }
 ],
 "metadata": {
  "kernelspec": {
   "display_name": "Python 3 (ipykernel)",
   "language": "python",
   "name": "python3"
  },
  "language_info": {
   "codemirror_mode": {
    "name": "ipython",
    "version": 3
   },
   "file_extension": ".py",
   "mimetype": "text/x-python",
   "name": "python",
   "nbconvert_exporter": "python",
   "pygments_lexer": "ipython3",
   "version": "3.11.7"
  }
 },
 "nbformat": 4,
 "nbformat_minor": 5
}
